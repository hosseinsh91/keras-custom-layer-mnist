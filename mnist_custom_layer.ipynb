{
 "cells": [
  {
   "cell_type": "code",
   "execution_count": 330,
   "id": "4496995e-d5a0-4195-a1fd-7c644d9de062",
   "metadata": {
    "tags": []
   },
   "outputs": [],
   "source": [
    "import tensorflow as tf\n",
    "from tensorflow import keras\n",
    "import numpy as np\n",
    "import matplotlib.pyplot as plt"
   ]
  },
  {
   "cell_type": "code",
   "execution_count": 302,
   "id": "7c040b0b-3ae5-4b9a-a63b-a68c8400c4ca",
   "metadata": {
    "tags": []
   },
   "outputs": [],
   "source": [
    "(x_train, y_train), (x_test, y_test) = keras.datasets.mnist.load_data()"
   ]
  },
  {
   "cell_type": "code",
   "execution_count": 303,
   "id": "f1ef9b2e-c69a-4cf7-83cd-ab3d5564d385",
   "metadata": {
    "tags": []
   },
   "outputs": [],
   "source": [
    "selected_labels = [0 , 2 , 5]\n",
    "mask = np.isin(y_train, selected_labels)\n",
    "x_train_f = x_train[mask]\n",
    "y_train_f = y_train[mask]"
   ]
  },
  {
   "cell_type": "code",
   "execution_count": 304,
   "id": "129c481e-0845-40f3-b175-e89ff87271f3",
   "metadata": {
    "tags": []
   },
   "outputs": [],
   "source": [
    "label_map = {0: 0, 2: 1, 5: 2}\n",
    "y_train_f = np.array([label_map[label] for label in y_train_f])"
   ]
  },
  {
   "cell_type": "code",
   "execution_count": 305,
   "id": "e615a07a-c974-4a15-9f81-601397a6f38e",
   "metadata": {
    "tags": []
   },
   "outputs": [],
   "source": [
    "x_train_f = x_train_f/255.0"
   ]
  },
  {
   "cell_type": "markdown",
   "id": "d9752e9c-42f2-4773-9a82-b57238a91451",
   "metadata": {},
   "source": [
    "# Define Custom layer"
   ]
  },
  {
   "cell_type": "code",
   "execution_count": 318,
   "id": "dec93d79-5eef-408c-b5f9-62114fed5263",
   "metadata": {
    "tags": []
   },
   "outputs": [],
   "source": [
    "class My_layer(keras.layers.Layer):\n",
    "    def __init__(self , units ):\n",
    "        super(My_layer, self).__init__()\n",
    "        self.units = units\n",
    "    def build(self, input_shape):\n",
    "        self.w = self.add_weight(shape=(input_shape[-1], self.units),\n",
    "                             initializer=\"random_normal\",\n",
    "                             trainable=True)\n",
    "        self.v = self.add_weight(shape=(input_shape[-1] , self.units),\n",
    "                             initializer=\"random_normal\",\n",
    "                             trainable=True)\n",
    "        self.b = self.add_weight(shape=(self.units,),\n",
    "                             initializer=\"random_normal\",\n",
    "                             trainable=True)\n",
    "    def call(self, inputs):\n",
    "        #x = tf.expand_dims(inputs, axis=-1)\n",
    "        return tf.matmul(tf.pow(inputs,3), self.v) - tf.matmul(inputs , self.w) + self.b"
   ]
  },
  {
   "cell_type": "code",
   "execution_count": 319,
   "id": "e55aac16-36a2-4f74-9ba8-7fa13ee153a8",
   "metadata": {
    "tags": []
   },
   "outputs": [],
   "source": [
    "model = keras.models.Sequential([\n",
    "    keras.layers.Flatten(input_shape = (28, 28)),\n",
    "    keras.layers.Dense(150 , activation = 'relu'),\n",
    "    keras.layers.Dense(100 , activation = 'relu'),\n",
    "    My_layer(units=50),\n",
    "    keras.layers.Dense(3 , activation = 'softmax') \n",
    "])"
   ]
  },
  {
   "cell_type": "code",
   "execution_count": 320,
   "id": "a7d0db82-5f39-4c02-b736-c1a9e53a6124",
   "metadata": {
    "tags": []
   },
   "outputs": [],
   "source": [
    "model.compile(optimizer=keras.optimizers.SGD(learning_rate=0.01),\n",
    "            loss='sparse_categorical_crossentropy',\n",
    "            metrics=['accuracy'])"
   ]
  },
  {
   "cell_type": "code",
   "execution_count": 321,
   "id": "720cfd63-118b-4d24-8ef5-0b40221fe889",
   "metadata": {
    "collapsed": true,
    "jupyter": {
     "outputs_hidden": true
    },
    "tags": []
   },
   "outputs": [
    {
     "name": "stdout",
     "output_type": "stream",
     "text": [
      "Epoch 1/50\n",
      "433/433 [==============================] - 2s 2ms/step - loss: 0.2963 - accuracy: 0.8925 - val_loss: 0.1199 - val_accuracy: 0.9688\n",
      "Epoch 2/50\n",
      "433/433 [==============================] - 1s 2ms/step - loss: 0.0892 - accuracy: 0.9741 - val_loss: 0.0897 - val_accuracy: 0.9766\n",
      "Epoch 3/50\n",
      "433/433 [==============================] - 1s 2ms/step - loss: 0.0608 - accuracy: 0.9810 - val_loss: 0.0827 - val_accuracy: 0.9783\n",
      "Epoch 4/50\n",
      "433/433 [==============================] - 1s 2ms/step - loss: 0.0423 - accuracy: 0.9871 - val_loss: 0.0688 - val_accuracy: 0.9821\n",
      "Epoch 5/50\n",
      "433/433 [==============================] - 1s 2ms/step - loss: 0.0342 - accuracy: 0.9899 - val_loss: 0.0714 - val_accuracy: 0.9824\n",
      "Epoch 6/50\n",
      "433/433 [==============================] - 1s 2ms/step - loss: 0.0370 - accuracy: 0.9912 - val_loss: 0.0581 - val_accuracy: 0.9853\n",
      "Epoch 7/50\n",
      "433/433 [==============================] - 1s 2ms/step - loss: 0.0210 - accuracy: 0.9931 - val_loss: 0.0583 - val_accuracy: 0.9850\n",
      "Epoch 8/50\n",
      "433/433 [==============================] - 1s 2ms/step - loss: 0.0143 - accuracy: 0.9947 - val_loss: 0.0650 - val_accuracy: 0.9876\n",
      "Epoch 9/50\n",
      "433/433 [==============================] - 1s 2ms/step - loss: 0.0112 - accuracy: 0.9966 - val_loss: 0.0685 - val_accuracy: 0.9861\n",
      "Epoch 10/50\n",
      "433/433 [==============================] - 1s 2ms/step - loss: 0.0084 - accuracy: 0.9970 - val_loss: 0.0735 - val_accuracy: 0.9870\n",
      "Epoch 11/50\n",
      "433/433 [==============================] - 1s 2ms/step - loss: 0.0066 - accuracy: 0.9982 - val_loss: 0.0744 - val_accuracy: 0.9876\n",
      "Epoch 12/50\n",
      "433/433 [==============================] - 1s 2ms/step - loss: 0.0093 - accuracy: 0.9983 - val_loss: 0.0749 - val_accuracy: 0.9853\n",
      "Epoch 13/50\n",
      "433/433 [==============================] - 1s 2ms/step - loss: 0.0039 - accuracy: 0.9993 - val_loss: 0.0801 - val_accuracy: 0.9876\n",
      "Epoch 14/50\n",
      "433/433 [==============================] - 1s 2ms/step - loss: 0.0023 - accuracy: 0.9997 - val_loss: 0.0869 - val_accuracy: 0.9876\n",
      "Epoch 15/50\n",
      "433/433 [==============================] - 1s 2ms/step - loss: 0.0015 - accuracy: 0.9999 - val_loss: 0.0965 - val_accuracy: 0.9876\n",
      "Epoch 16/50\n",
      "433/433 [==============================] - 1s 2ms/step - loss: 0.0016 - accuracy: 0.9998 - val_loss: 0.0982 - val_accuracy: 0.9882\n",
      "Epoch 17/50\n",
      "433/433 [==============================] - 1s 2ms/step - loss: 7.9428e-04 - accuracy: 1.0000 - val_loss: 0.1024 - val_accuracy: 0.9882\n",
      "Epoch 18/50\n",
      "433/433 [==============================] - 1s 2ms/step - loss: 5.9093e-04 - accuracy: 1.0000 - val_loss: 0.1066 - val_accuracy: 0.9882\n",
      "Epoch 19/50\n",
      "433/433 [==============================] - 1s 2ms/step - loss: 4.5107e-04 - accuracy: 1.0000 - val_loss: 0.1127 - val_accuracy: 0.9882\n",
      "Epoch 20/50\n",
      "433/433 [==============================] - 1s 2ms/step - loss: 3.6658e-04 - accuracy: 1.0000 - val_loss: 0.1174 - val_accuracy: 0.9884\n",
      "Epoch 21/50\n",
      "433/433 [==============================] - 1s 2ms/step - loss: 3.0015e-04 - accuracy: 1.0000 - val_loss: 0.1207 - val_accuracy: 0.9884\n",
      "Epoch 22/50\n",
      "433/433 [==============================] - 1s 2ms/step - loss: 2.5745e-04 - accuracy: 1.0000 - val_loss: 0.1239 - val_accuracy: 0.9884\n",
      "Epoch 23/50\n",
      "433/433 [==============================] - 1s 2ms/step - loss: 2.2437e-04 - accuracy: 1.0000 - val_loss: 0.1280 - val_accuracy: 0.9884\n",
      "Epoch 24/50\n",
      "433/433 [==============================] - 1s 2ms/step - loss: 1.9288e-04 - accuracy: 1.0000 - val_loss: 0.1313 - val_accuracy: 0.9884\n",
      "Epoch 25/50\n",
      "433/433 [==============================] - 1s 2ms/step - loss: 1.7126e-04 - accuracy: 1.0000 - val_loss: 0.1323 - val_accuracy: 0.9882\n",
      "Epoch 26/50\n",
      "433/433 [==============================] - 1s 2ms/step - loss: 1.5223e-04 - accuracy: 1.0000 - val_loss: 0.1345 - val_accuracy: 0.9882\n",
      "Epoch 27/50\n",
      "433/433 [==============================] - 1s 2ms/step - loss: 1.3803e-04 - accuracy: 1.0000 - val_loss: 0.1375 - val_accuracy: 0.9884\n",
      "Epoch 28/50\n",
      "433/433 [==============================] - 1s 2ms/step - loss: 1.2445e-04 - accuracy: 1.0000 - val_loss: 0.1406 - val_accuracy: 0.9884\n",
      "Epoch 29/50\n",
      "433/433 [==============================] - 1s 2ms/step - loss: 1.1290e-04 - accuracy: 1.0000 - val_loss: 0.1425 - val_accuracy: 0.9887\n",
      "Epoch 30/50\n",
      "433/433 [==============================] - 1s 2ms/step - loss: 1.0390e-04 - accuracy: 1.0000 - val_loss: 0.1444 - val_accuracy: 0.9884\n",
      "Epoch 31/50\n",
      "433/433 [==============================] - 1s 2ms/step - loss: 9.6018e-05 - accuracy: 1.0000 - val_loss: 0.1460 - val_accuracy: 0.9884\n",
      "Epoch 32/50\n",
      "433/433 [==============================] - 1s 2ms/step - loss: 8.8150e-05 - accuracy: 1.0000 - val_loss: 0.1490 - val_accuracy: 0.9884\n",
      "Epoch 33/50\n",
      "433/433 [==============================] - 1s 2ms/step - loss: 8.2130e-05 - accuracy: 1.0000 - val_loss: 0.1503 - val_accuracy: 0.9884\n",
      "Epoch 34/50\n",
      "433/433 [==============================] - 1s 2ms/step - loss: 7.6686e-05 - accuracy: 1.0000 - val_loss: 0.1509 - val_accuracy: 0.9884\n",
      "Epoch 35/50\n",
      "433/433 [==============================] - 1s 2ms/step - loss: 7.1805e-05 - accuracy: 1.0000 - val_loss: 0.1525 - val_accuracy: 0.9884\n",
      "Epoch 36/50\n",
      "433/433 [==============================] - 1s 2ms/step - loss: 6.7252e-05 - accuracy: 1.0000 - val_loss: 0.1544 - val_accuracy: 0.9884\n",
      "Epoch 37/50\n",
      "433/433 [==============================] - 1s 2ms/step - loss: 6.3394e-05 - accuracy: 1.0000 - val_loss: 0.1559 - val_accuracy: 0.9884\n",
      "Epoch 38/50\n",
      "433/433 [==============================] - 1s 2ms/step - loss: 5.9730e-05 - accuracy: 1.0000 - val_loss: 0.1570 - val_accuracy: 0.9884\n",
      "Epoch 39/50\n",
      "433/433 [==============================] - 1s 2ms/step - loss: 5.6408e-05 - accuracy: 1.0000 - val_loss: 0.1587 - val_accuracy: 0.9884\n",
      "Epoch 40/50\n",
      "433/433 [==============================] - 1s 2ms/step - loss: 5.3513e-05 - accuracy: 1.0000 - val_loss: 0.1598 - val_accuracy: 0.9884\n",
      "Epoch 41/50\n",
      "433/433 [==============================] - 1s 2ms/step - loss: 5.0774e-05 - accuracy: 1.0000 - val_loss: 0.1617 - val_accuracy: 0.9884\n",
      "Epoch 42/50\n",
      "433/433 [==============================] - 1s 2ms/step - loss: 4.8280e-05 - accuracy: 1.0000 - val_loss: 0.1627 - val_accuracy: 0.9884\n",
      "Epoch 43/50\n",
      "433/433 [==============================] - 1s 2ms/step - loss: 4.6172e-05 - accuracy: 1.0000 - val_loss: 0.1634 - val_accuracy: 0.9884\n",
      "Epoch 44/50\n",
      "433/433 [==============================] - 1s 2ms/step - loss: 4.4022e-05 - accuracy: 1.0000 - val_loss: 0.1643 - val_accuracy: 0.9884\n",
      "Epoch 45/50\n",
      "433/433 [==============================] - 1s 2ms/step - loss: 4.1910e-05 - accuracy: 1.0000 - val_loss: 0.1661 - val_accuracy: 0.9884\n",
      "Epoch 46/50\n",
      "433/433 [==============================] - 1s 2ms/step - loss: 4.0290e-05 - accuracy: 1.0000 - val_loss: 0.1670 - val_accuracy: 0.9884\n",
      "Epoch 47/50\n",
      "433/433 [==============================] - 1s 2ms/step - loss: 3.8599e-05 - accuracy: 1.0000 - val_loss: 0.1673 - val_accuracy: 0.9884\n",
      "Epoch 48/50\n",
      "433/433 [==============================] - 1s 2ms/step - loss: 3.6999e-05 - accuracy: 1.0000 - val_loss: 0.1679 - val_accuracy: 0.9884\n",
      "Epoch 49/50\n",
      "433/433 [==============================] - 1s 2ms/step - loss: 3.5678e-05 - accuracy: 1.0000 - val_loss: 0.1696 - val_accuracy: 0.9884\n",
      "Epoch 50/50\n",
      "433/433 [==============================] - 1s 2ms/step - loss: 3.4289e-05 - accuracy: 1.0000 - val_loss: 0.1705 - val_accuracy: 0.9884\n"
     ]
    }
   ],
   "source": [
    "history = model.fit(x_train_f , y_train_f ,  epochs=50 , validation_split=0.2)"
   ]
  },
  {
   "cell_type": "markdown",
   "id": "7660da8c-0bc5-44c3-b8a1-6f6da84a020b",
   "metadata": {
    "tags": []
   },
   "source": [
    "# Define a simple model"
   ]
  },
  {
   "cell_type": "code",
   "execution_count": 326,
   "id": "0db79975-5841-41d0-91b3-09a450a806b7",
   "metadata": {
    "tags": []
   },
   "outputs": [],
   "source": [
    "model2 = keras.models.Sequential([\n",
    "    keras.layers.Flatten(input_shape = (28, 28)),\n",
    "    keras.layers.Dense(100 , activation = 'relu'),\n",
    "    keras.layers.Dense(50 , activation = 'relu'),\n",
    "    keras.layers.Dense(3 , activation = 'softmax') \n",
    "])"
   ]
  },
  {
   "cell_type": "code",
   "execution_count": 327,
   "id": "557dbd70-0b64-4365-b6f1-707ecf7223bc",
   "metadata": {
    "collapsed": true,
    "jupyter": {
     "outputs_hidden": true
    },
    "tags": []
   },
   "outputs": [
    {
     "name": "stdout",
     "output_type": "stream",
     "text": [
      "Epoch 1/50\n",
      "433/433 [==============================] - 1s 2ms/step - loss: 0.3048 - accuracy: 0.9110 - val_loss: 0.1331 - val_accuracy: 0.9593\n",
      "Epoch 2/50\n",
      "433/433 [==============================] - 1s 2ms/step - loss: 0.1053 - accuracy: 0.9697 - val_loss: 0.1054 - val_accuracy: 0.9674\n",
      "Epoch 3/50\n",
      "433/433 [==============================] - 1s 2ms/step - loss: 0.0849 - accuracy: 0.9746 - val_loss: 0.0930 - val_accuracy: 0.9694\n",
      "Epoch 4/50\n",
      "433/433 [==============================] - 1s 2ms/step - loss: 0.0743 - accuracy: 0.9772 - val_loss: 0.0873 - val_accuracy: 0.9723\n",
      "Epoch 5/50\n",
      "433/433 [==============================] - 1s 2ms/step - loss: 0.0660 - accuracy: 0.9796 - val_loss: 0.0809 - val_accuracy: 0.9737\n",
      "Epoch 6/50\n",
      "433/433 [==============================] - 1s 2ms/step - loss: 0.0602 - accuracy: 0.9814 - val_loss: 0.0771 - val_accuracy: 0.9757\n",
      "Epoch 7/50\n",
      "433/433 [==============================] - 1s 2ms/step - loss: 0.0546 - accuracy: 0.9832 - val_loss: 0.0714 - val_accuracy: 0.9760\n",
      "Epoch 8/50\n",
      "433/433 [==============================] - 1s 2ms/step - loss: 0.0503 - accuracy: 0.9847 - val_loss: 0.0677 - val_accuracy: 0.9775\n",
      "Epoch 9/50\n",
      "433/433 [==============================] - 1s 2ms/step - loss: 0.0458 - accuracy: 0.9865 - val_loss: 0.0653 - val_accuracy: 0.9792\n",
      "Epoch 10/50\n",
      "433/433 [==============================] - 1s 2ms/step - loss: 0.0421 - accuracy: 0.9874 - val_loss: 0.0617 - val_accuracy: 0.9792\n",
      "Epoch 11/50\n",
      "433/433 [==============================] - 1s 2ms/step - loss: 0.0386 - accuracy: 0.9887 - val_loss: 0.0596 - val_accuracy: 0.9801\n",
      "Epoch 12/50\n",
      "433/433 [==============================] - 1s 2ms/step - loss: 0.0351 - accuracy: 0.9900 - val_loss: 0.0566 - val_accuracy: 0.9821\n",
      "Epoch 13/50\n",
      "433/433 [==============================] - 1s 2ms/step - loss: 0.0326 - accuracy: 0.9906 - val_loss: 0.0571 - val_accuracy: 0.9801\n",
      "Epoch 14/50\n",
      "433/433 [==============================] - 1s 2ms/step - loss: 0.0300 - accuracy: 0.9913 - val_loss: 0.0535 - val_accuracy: 0.9815\n",
      "Epoch 15/50\n",
      "433/433 [==============================] - 1s 2ms/step - loss: 0.0276 - accuracy: 0.9920 - val_loss: 0.0508 - val_accuracy: 0.9830\n",
      "Epoch 16/50\n",
      "433/433 [==============================] - 1s 2ms/step - loss: 0.0255 - accuracy: 0.9930 - val_loss: 0.0493 - val_accuracy: 0.9844\n",
      "Epoch 17/50\n",
      "433/433 [==============================] - 1s 2ms/step - loss: 0.0235 - accuracy: 0.9936 - val_loss: 0.0488 - val_accuracy: 0.9830\n",
      "Epoch 18/50\n",
      "433/433 [==============================] - 1s 2ms/step - loss: 0.0217 - accuracy: 0.9941 - val_loss: 0.0481 - val_accuracy: 0.9844\n",
      "Epoch 19/50\n",
      "433/433 [==============================] - 1s 2ms/step - loss: 0.0202 - accuracy: 0.9949 - val_loss: 0.0457 - val_accuracy: 0.9835\n",
      "Epoch 20/50\n",
      "433/433 [==============================] - 1s 2ms/step - loss: 0.0186 - accuracy: 0.9951 - val_loss: 0.0461 - val_accuracy: 0.9835\n",
      "Epoch 21/50\n",
      "433/433 [==============================] - 1s 2ms/step - loss: 0.0172 - accuracy: 0.9956 - val_loss: 0.0447 - val_accuracy: 0.9844\n",
      "Epoch 22/50\n",
      "433/433 [==============================] - 1s 2ms/step - loss: 0.0160 - accuracy: 0.9961 - val_loss: 0.0433 - val_accuracy: 0.9850\n",
      "Epoch 23/50\n",
      "433/433 [==============================] - 1s 2ms/step - loss: 0.0151 - accuracy: 0.9966 - val_loss: 0.0422 - val_accuracy: 0.9853\n",
      "Epoch 24/50\n",
      "433/433 [==============================] - 1s 2ms/step - loss: 0.0139 - accuracy: 0.9971 - val_loss: 0.0420 - val_accuracy: 0.9850\n",
      "Epoch 25/50\n",
      "433/433 [==============================] - 1s 2ms/step - loss: 0.0130 - accuracy: 0.9970 - val_loss: 0.0415 - val_accuracy: 0.9861\n",
      "Epoch 26/50\n",
      "433/433 [==============================] - 1s 2ms/step - loss: 0.0120 - accuracy: 0.9976 - val_loss: 0.0417 - val_accuracy: 0.9853\n",
      "Epoch 27/50\n",
      "433/433 [==============================] - 1s 2ms/step - loss: 0.0114 - accuracy: 0.9976 - val_loss: 0.0408 - val_accuracy: 0.9864\n",
      "Epoch 28/50\n",
      "433/433 [==============================] - 1s 2ms/step - loss: 0.0106 - accuracy: 0.9980 - val_loss: 0.0404 - val_accuracy: 0.9858\n",
      "Epoch 29/50\n",
      "433/433 [==============================] - 1s 2ms/step - loss: 0.0100 - accuracy: 0.9980 - val_loss: 0.0398 - val_accuracy: 0.9864\n",
      "Epoch 30/50\n",
      "433/433 [==============================] - 1s 2ms/step - loss: 0.0094 - accuracy: 0.9983 - val_loss: 0.0400 - val_accuracy: 0.9864\n",
      "Epoch 31/50\n",
      "433/433 [==============================] - 1s 2ms/step - loss: 0.0087 - accuracy: 0.9988 - val_loss: 0.0396 - val_accuracy: 0.9876\n",
      "Epoch 32/50\n",
      "433/433 [==============================] - 1s 2ms/step - loss: 0.0082 - accuracy: 0.9991 - val_loss: 0.0410 - val_accuracy: 0.9861\n",
      "Epoch 33/50\n",
      "433/433 [==============================] - 1s 2ms/step - loss: 0.0078 - accuracy: 0.9990 - val_loss: 0.0391 - val_accuracy: 0.9873\n",
      "Epoch 34/50\n",
      "433/433 [==============================] - 1s 2ms/step - loss: 0.0074 - accuracy: 0.9991 - val_loss: 0.0389 - val_accuracy: 0.9873\n",
      "Epoch 35/50\n",
      "433/433 [==============================] - 1s 2ms/step - loss: 0.0069 - accuracy: 0.9994 - val_loss: 0.0391 - val_accuracy: 0.9867\n",
      "Epoch 36/50\n",
      "433/433 [==============================] - 1s 2ms/step - loss: 0.0065 - accuracy: 0.9994 - val_loss: 0.0381 - val_accuracy: 0.9870\n",
      "Epoch 37/50\n",
      "433/433 [==============================] - 1s 2ms/step - loss: 0.0062 - accuracy: 0.9996 - val_loss: 0.0386 - val_accuracy: 0.9879\n",
      "Epoch 38/50\n",
      "433/433 [==============================] - 1s 2ms/step - loss: 0.0059 - accuracy: 0.9996 - val_loss: 0.0386 - val_accuracy: 0.9873\n",
      "Epoch 39/50\n",
      "433/433 [==============================] - 1s 2ms/step - loss: 0.0056 - accuracy: 0.9996 - val_loss: 0.0385 - val_accuracy: 0.9870\n",
      "Epoch 40/50\n",
      "433/433 [==============================] - 1s 2ms/step - loss: 0.0053 - accuracy: 0.9997 - val_loss: 0.0378 - val_accuracy: 0.9879\n",
      "Epoch 41/50\n",
      "433/433 [==============================] - 1s 2ms/step - loss: 0.0051 - accuracy: 0.9998 - val_loss: 0.0384 - val_accuracy: 0.9873\n",
      "Epoch 42/50\n",
      "433/433 [==============================] - 1s 2ms/step - loss: 0.0048 - accuracy: 0.9999 - val_loss: 0.0378 - val_accuracy: 0.9887\n",
      "Epoch 43/50\n",
      "433/433 [==============================] - 1s 2ms/step - loss: 0.0046 - accuracy: 0.9999 - val_loss: 0.0380 - val_accuracy: 0.9876\n",
      "Epoch 44/50\n",
      "433/433 [==============================] - 1s 2ms/step - loss: 0.0044 - accuracy: 0.9999 - val_loss: 0.0376 - val_accuracy: 0.9884\n",
      "Epoch 45/50\n",
      "433/433 [==============================] - 1s 2ms/step - loss: 0.0042 - accuracy: 0.9999 - val_loss: 0.0379 - val_accuracy: 0.9879\n",
      "Epoch 46/50\n",
      "433/433 [==============================] - 1s 2ms/step - loss: 0.0040 - accuracy: 0.9999 - val_loss: 0.0377 - val_accuracy: 0.9884\n",
      "Epoch 47/50\n",
      "433/433 [==============================] - 1s 2ms/step - loss: 0.0039 - accuracy: 1.0000 - val_loss: 0.0380 - val_accuracy: 0.9879\n",
      "Epoch 48/50\n",
      "433/433 [==============================] - 1s 2ms/step - loss: 0.0037 - accuracy: 0.9999 - val_loss: 0.0375 - val_accuracy: 0.9884\n",
      "Epoch 49/50\n",
      "433/433 [==============================] - 1s 2ms/step - loss: 0.0036 - accuracy: 0.9999 - val_loss: 0.0377 - val_accuracy: 0.9876\n",
      "Epoch 50/50\n",
      "433/433 [==============================] - 1s 2ms/step - loss: 0.0034 - accuracy: 0.9999 - val_loss: 0.0381 - val_accuracy: 0.9887\n"
     ]
    }
   ],
   "source": [
    "model2.compile(optimizer='sgd',\n",
    "            loss='sparse_categorical_crossentropy',\n",
    "            metrics=['accuracy'])\n",
    "history2 = model2.fit(x_train_f , y_train_f ,  epochs=50 , validation_split=0.2)"
   ]
  },
  {
   "cell_type": "markdown",
   "id": "df57341d-7528-400a-b653-d7c0a68d0802",
   "metadata": {},
   "source": [
    "# Plot the Graph"
   ]
  },
  {
   "cell_type": "code",
   "execution_count": 331,
   "id": "4206b4d2-352f-4cf0-b257-82a89c12452d",
   "metadata": {
    "tags": []
   },
   "outputs": [
    {
     "data": {
      "text/plain": [
       "<matplotlib.legend.Legend at 0x7fb1c19aba60>"
      ]
     },
     "execution_count": 331,
     "metadata": {},
     "output_type": "execute_result"
    },
    {
     "data": {
      "image/png": "[encoded data removed]",
      "text/plain": [
       "<Figure size 1200x600 with 1 Axes>"
      ]
     },
     "metadata": {},
     "output_type": "display_data"
    }
   ],
   "source": [
    "fig, ax = plt.subplots(figsize=(12, 6))\n",
    "ax.plot(history.history[\"val_loss\"], label=\"val_loss_Custom_layer\")\n",
    "ax.plot(history2.history[\"val_loss\"], label=\"val_loss_simple_layer\")\n",
    "ax.plot(history.history[\"val_accuracy\"], label=\"val_accuracy_Custom_layer\")\n",
    "ax.plot(history2.history[\"val_accuracy\"], label=\"val_accuracy_simple_layer\")\n",
    "ax.legend()"
   ]
  }
 ],
 "metadata": {
  "kernelspec": {
   "display_name": "Python 3 (ipykernel)",
   "language": "python",
   "name": "python3"
  },
  "language_info": {
   "codemirror_mode": {
    "name": "ipython",
    "version": 3
   },
   "file_extension": ".py",
   "mimetype": "text/x-python",
   "name": "python",
   "nbconvert_exporter": "python",
   "pygments_lexer": "ipython3",
   "version": "3.10.11"
  }
 },
 "nbformat": 4,
 "nbformat_minor": 5
}
